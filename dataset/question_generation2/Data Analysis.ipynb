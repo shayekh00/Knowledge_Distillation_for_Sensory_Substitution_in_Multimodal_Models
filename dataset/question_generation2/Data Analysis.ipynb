{
 "cells": [
  {
   "cell_type": "code",
   "execution_count": 4,
   "metadata": {},
   "outputs": [
    {
     "name": "stdout",
     "output_type": "stream",
     "text": [
      "/home/sahmednav/Projects/Thesis/MastersThesis3/MastersThesis/dataset\n"
     ]
    }
   ],
   "source": [
    "cd .."
   ]
  },
  {
   "cell_type": "code",
   "execution_count": 8,
   "metadata": {},
   "outputs": [
    {
     "data": {
      "text/html": [
       "<div>\n",
       "<style scoped>\n",
       "    .dataframe tbody tr th:only-of-type {\n",
       "        vertical-align: middle;\n",
       "    }\n",
       "\n",
       "    .dataframe tbody tr th {\n",
       "        vertical-align: top;\n",
       "    }\n",
       "\n",
       "    .dataframe thead th {\n",
       "        text-align: right;\n",
       "    }\n",
       "</style>\n",
       "<table border=\"1\" class=\"dataframe\">\n",
       "  <thead>\n",
       "    <tr style=\"text-align: right;\">\n",
       "      <th></th>\n",
       "      <th>Question_Id</th>\n",
       "      <th>Questions</th>\n",
       "      <th>Answers</th>\n",
       "      <th>Image_Path</th>\n",
       "      <th>Depth_Path</th>\n",
       "      <th>Question_Type</th>\n",
       "      <th>IDs</th>\n",
       "    </tr>\n",
       "  </thead>\n",
       "  <tbody>\n",
       "    <tr>\n",
       "      <th>0</th>\n",
       "      <td>1</td>\n",
       "      <td>How many printers are there?</td>\n",
       "      <td>one</td>\n",
       "      <td>SUNRGBD/kv2/kinect2data/000689_2014-06-08_13-0...</td>\n",
       "      <td>SUNRGBD/kv2/kinect2data/000689_2014-06-08_13-0...</td>\n",
       "      <td>Count</td>\n",
       "      <td>1.0</td>\n",
       "    </tr>\n",
       "    <tr>\n",
       "      <th>1</th>\n",
       "      <td>2</td>\n",
       "      <td>How many book shelfs are there?</td>\n",
       "      <td>one</td>\n",
       "      <td>SUNRGBD/realsense/lg/2014_10_28-15_49_03-13110...</td>\n",
       "      <td>SUNRGBD/realsense/lg/2014_10_28-15_49_03-13110...</td>\n",
       "      <td>Count</td>\n",
       "      <td>2.0</td>\n",
       "    </tr>\n",
       "    <tr>\n",
       "      <th>2</th>\n",
       "      <td>3</td>\n",
       "      <td>How many windows are there?</td>\n",
       "      <td>two</td>\n",
       "      <td>SUNRGBD/xtion/sun3ddata/brown_cs_4/brown_cs4/0...</td>\n",
       "      <td>SUNRGBD/xtion/sun3ddata/brown_cs_4/brown_cs4/0...</td>\n",
       "      <td>Count</td>\n",
       "      <td>3.0</td>\n",
       "    </tr>\n",
       "    <tr>\n",
       "      <th>3</th>\n",
       "      <td>4</td>\n",
       "      <td>How many dressers are there?</td>\n",
       "      <td>one</td>\n",
       "      <td>SUNRGBD/kv2/kinect2data/002170_2014-06-26_19-4...</td>\n",
       "      <td>SUNRGBD/kv2/kinect2data/002170_2014-06-26_19-4...</td>\n",
       "      <td>Count</td>\n",
       "      <td>4.0</td>\n",
       "    </tr>\n",
       "    <tr>\n",
       "      <th>4</th>\n",
       "      <td>5</td>\n",
       "      <td>How many ouchs are there?</td>\n",
       "      <td>one</td>\n",
       "      <td>SUNRGBD/xtion/sun3ddata/mit_w85k1/scan_1/00082...</td>\n",
       "      <td>SUNRGBD/xtion/sun3ddata/mit_w85k1/scan_1/00082...</td>\n",
       "      <td>Count</td>\n",
       "      <td>5.0</td>\n",
       "    </tr>\n",
       "  </tbody>\n",
       "</table>\n",
       "</div>"
      ],
      "text/plain": [
       "   Question_Id                        Questions Answers  \\\n",
       "0            1     How many printers are there?     one   \n",
       "1            2  How many book shelfs are there?     one   \n",
       "2            3      How many windows are there?     two   \n",
       "3            4     How many dressers are there?     one   \n",
       "4            5        How many ouchs are there?     one   \n",
       "\n",
       "                                          Image_Path  \\\n",
       "0  SUNRGBD/kv2/kinect2data/000689_2014-06-08_13-0...   \n",
       "1  SUNRGBD/realsense/lg/2014_10_28-15_49_03-13110...   \n",
       "2  SUNRGBD/xtion/sun3ddata/brown_cs_4/brown_cs4/0...   \n",
       "3  SUNRGBD/kv2/kinect2data/002170_2014-06-26_19-4...   \n",
       "4  SUNRGBD/xtion/sun3ddata/mit_w85k1/scan_1/00082...   \n",
       "\n",
       "                                          Depth_Path Question_Type  IDs  \n",
       "0  SUNRGBD/kv2/kinect2data/000689_2014-06-08_13-0...         Count  1.0  \n",
       "1  SUNRGBD/realsense/lg/2014_10_28-15_49_03-13110...         Count  2.0  \n",
       "2  SUNRGBD/xtion/sun3ddata/brown_cs_4/brown_cs4/0...         Count  3.0  \n",
       "3  SUNRGBD/kv2/kinect2data/002170_2014-06-26_19-4...         Count  4.0  \n",
       "4  SUNRGBD/xtion/sun3ddata/mit_w85k1/scan_1/00082...         Count  5.0  "
      ]
     },
     "execution_count": 8,
     "metadata": {},
     "output_type": "execute_result"
    }
   ],
   "source": [
    "import pandas as pd\n",
    "\n",
    "# Replace 'dataset.csv' with the path to your CSV file\n",
    "df = pd.read_csv(\"SUNRGBD_Dataset/SUNRGBD/csv_data/individual_datasets/test_dataset.csv\")\n",
    "\n",
    "df.head()\n"
   ]
  },
  {
   "cell_type": "code",
   "execution_count": 9,
   "metadata": {},
   "outputs": [
    {
     "name": "stdout",
     "output_type": "stream",
     "text": [
      "11888\n",
      "2033\n"
     ]
    }
   ],
   "source": [
    "image_path_series = df[\"Image_Path\"].tolist()\n",
    "print(len(image_path_series))\n",
    "print(len(set(image_path_series)))"
   ]
  },
  {
   "cell_type": "code",
   "execution_count": 7,
   "metadata": {},
   "outputs": [
    {
     "name": "stdout",
     "output_type": "stream",
     "text": [
      "File: color_questions.csv, Number of rows: 17742\n",
      "File: count_qa.csv, Number of rows: 8315\n",
      "File: object_identification.csv, Number of rows: 5875\n",
      "File: proximity_qa.csv, Number of rows: 19272\n",
      "File: yes_no_qa.csv, Number of rows: 20372\n",
      "File: direction_questions.csv, Number of rows: 9668\n",
      "Total number of rows: 81244\n"
     ]
    }
   ],
   "source": [
    "import os\n",
    "import pandas as pd\n",
    "\n",
    "# Specify the folder path\n",
    "folder_path = 'output_path/final_dataset/'\n",
    "\n",
    "total = 0\n",
    "# Loop over all files in the folder\n",
    "for filename in os.listdir(folder_path):\n",
    "    # Check if the file is a CSV\n",
    "    if filename.endswith('.csv') and filename != 'final_dataset.csv':\n",
    "        # Create the full path to the file\n",
    "        file_path = os.path.join(folder_path, filename)\n",
    "        \n",
    "        # Read the CSV file\n",
    "        df = pd.read_csv(file_path)\n",
    "        \n",
    "        # Get the number of rows\n",
    "        num_rows = len(df)\n",
    "        total = total + num_rows\n",
    "        \n",
    "        # Print the filename and the number of rows\n",
    "        print(f'File: {filename}, Number of rows: {num_rows}')\n",
    "\n",
    "print(f'Total number of rows: {total}')"
   ]
  },
  {
   "cell_type": "code",
   "execution_count": 12,
   "metadata": {},
   "outputs": [
    {
     "data": {
      "text/plain": [
       "Answers\n",
       "floor         499\n",
       "table         481\n",
       "wall          449\n",
       "bed           440\n",
       "chair         327\n",
       "cabinet       228\n",
       "door          187\n",
       "desk          180\n",
       "sofa          165\n",
       "window        162\n",
       "shelf         120\n",
       "couch         103\n",
       "carpet         93\n",
       "curtain        80\n",
       "counter        59\n",
       "ceiling        54\n",
       "bookshelf      52\n",
       "dresser        48\n",
       "blinds         47\n",
       "whiteboard     45\n",
       "Name: count, dtype: int64"
      ]
     },
     "execution_count": 12,
     "metadata": {},
     "output_type": "execute_result"
    }
   ],
   "source": [
    "column_name = 'Answers'\n",
    "\n",
    "# Convert all values in the specified column to lowercase\n",
    "df[column_name] = df[column_name].str.lower()\n",
    "\n",
    "# Find the frequency of each unique value in the column\n",
    "value_counts = df[column_name].value_counts()\n",
    "\n",
    "value_counts.head(20)"
   ]
  },
  {
   "cell_type": "code",
   "execution_count": 4,
   "metadata": {},
   "outputs": [
    {
     "name": "stdout",
     "output_type": "stream",
     "text": [
      "         Noun  Count\n",
      "80      Walls   1100\n",
      "29    windows   1100\n",
      "222    chairs   1100\n",
      "79     Floors   1100\n",
      "33     tables   1100\n",
      "4      floors   1100\n",
      "9       walls   1100\n",
      "306     doors   1100\n",
      "312    Chairs   1100\n",
      "62   pictures   1100\n",
      "287  cabinets   1100\n",
      "43       boxs   1097\n",
      "60     papers   1096\n",
      "21      desks   1032\n",
      "5    ceilings    959\n",
      "7     pillows    923\n",
      "1       lamps    907\n",
      "0        beds    866\n",
      "311    Tables    862\n",
      "297     books    775\n",
      "385    shelfs    764\n",
      "256   bottles    719\n",
      "18      sofas    680\n",
      "12       bags    664\n",
      "234     WALLs    611\n",
      "307  curtains    595\n",
      "512    bookss    576\n",
      "163  monitors    551\n",
      "67    Windows    547\n",
      "2     mirrors    542\n"
     ]
    }
   ],
   "source": [
    "import re\n",
    "from collections import Counter\n",
    "\n",
    "def extract_nouns(questions):\n",
    "    pattern = re.compile(r'How many (\\w+) are there\\?')\n",
    "    nouns = pattern.findall(\" \".join(questions))\n",
    "    return nouns\n",
    "\n",
    "def get_noun_count(df):\n",
    "    # Extract nouns from the 'Questions' column\n",
    "    nouns = extract_nouns(df['Questions'])\n",
    "    \n",
    "    # Count the occurrences of each noun\n",
    "    noun_counts = Counter(nouns)\n",
    "    \n",
    "    # Convert to DataFrame\n",
    "    noun_df = pd.DataFrame(noun_counts.items(), columns=['Noun', 'Count'])\n",
    "    \n",
    "    # Sort the DataFrame in ascending order by count and return the top 20\n",
    "    sorted_noun_df = noun_df.sort_values(by='Count', ascending=False)\n",
    "    \n",
    "    return sorted_noun_df\n",
    "\n",
    "df = pd.read_csv(\"output_path/final_dataset/count_qa.csv\")\n",
    "sorted_df = get_noun_count(df)\n",
    "print(sorted_df.head(30))\n"
   ]
  },
  {
   "cell_type": "code",
   "execution_count": 17,
   "metadata": {},
   "outputs": [
    {
     "name": "stdout",
     "output_type": "stream",
     "text": [
      "1.0\n"
     ]
    }
   ],
   "source": [
    "print(median_value)"
   ]
  },
  {
   "cell_type": "code",
   "execution_count": 16,
   "metadata": {},
   "outputs": [
    {
     "data": {
      "image/png": "[encoded data removed]",
      "text/plain": [
       "<Figure size 1000x600 with 1 Axes>"
      ]
     },
     "metadata": {},
     "output_type": "display_data"
    }
   ],
   "source": [
    "import seaborn as sns\n",
    "import matplotlib.pyplot as plt\n",
    "\n",
    "# Plot distribution\n",
    "plt.figure(figsize=(10, 6))\n",
    "sns.histplot(sorted_df['Count'], kde=True,bins=10)\n",
    "\n",
    "# Set plot title and labels\n",
    "plt.title('Distribution of Counts')\n",
    "plt.xlabel('Count')\n",
    "plt.ylabel('Frequency')\n",
    "\n",
    "# Show the plot\n",
    "plt.show()"
   ]
  },
  {
   "cell_type": "code",
   "execution_count": 3,
   "metadata": {},
   "outputs": [
    {
     "data": {
      "application/vnd.jupyter.widget-view+json": {
       "model_id": "58e1e01427b74356bb58430664150f87",
       "version_major": 2,
       "version_minor": 0
      },
      "text/plain": [
       "preprocessor_config.json:   0%|          | 0.00/251 [00:00<?, ?B/s]"
      ]
     },
     "metadata": {},
     "output_type": "display_data"
    },
    {
     "data": {
      "application/vnd.jupyter.widget-view+json": {
       "model_id": "57136b6ddc44414f99a2f555f13c7aad",
       "version_major": 2,
       "version_minor": 0
      },
      "text/plain": [
       "tokenizer_config.json:   0%|          | 0.00/320 [00:00<?, ?B/s]"
      ]
     },
     "metadata": {},
     "output_type": "display_data"
    },
    {
     "data": {
      "application/vnd.jupyter.widget-view+json": {
       "model_id": "136a03f80ed34f32bd32109a06711d4a",
       "version_major": 2,
       "version_minor": 0
      },
      "text/plain": [
       "vocab.txt:   0%|          | 0.00/232k [00:00<?, ?B/s]"
      ]
     },
     "metadata": {},
     "output_type": "display_data"
    },
    {
     "data": {
      "application/vnd.jupyter.widget-view+json": {
       "model_id": "6d3fd2f91fac4cb7ad51e9e550dc6bb3",
       "version_major": 2,
       "version_minor": 0
      },
      "text/plain": [
       "tokenizer.json:   0%|          | 0.00/466k [00:00<?, ?B/s]"
      ]
     },
     "metadata": {},
     "output_type": "display_data"
    },
    {
     "data": {
      "application/vnd.jupyter.widget-view+json": {
       "model_id": "4ee929a5b59947a0b5bad22231ea546e",
       "version_major": 2,
       "version_minor": 0
      },
      "text/plain": [
       "special_tokens_map.json:   0%|          | 0.00/112 [00:00<?, ?B/s]"
      ]
     },
     "metadata": {},
     "output_type": "display_data"
    },
    {
     "name": "stderr",
     "output_type": "stream",
     "text": [
      "/home/sahmednav/anaconda3/envs/thesis/lib/python3.8/site-packages/transformers/tokenization_utils_base.py:1617: FutureWarning: `clean_up_tokenization_spaces` was not set. It will be set to `True` by default. This behavior will be deprecated in transformers v4.45, and will be then set to `False` by default. For more details check this issue: https://github.com/huggingface/transformers/issues/31884\n",
      "  warnings.warn(\n"
     ]
    },
    {
     "data": {
      "application/vnd.jupyter.widget-view+json": {
       "model_id": "67cb08b175f6435fb062b9f82cb7af41",
       "version_major": 2,
       "version_minor": 0
      },
      "text/plain": [
       "config.json:   0%|          | 0.00/136k [00:00<?, ?B/s]"
      ]
     },
     "metadata": {},
     "output_type": "display_data"
    },
    {
     "data": {
      "application/vnd.jupyter.widget-view+json": {
       "model_id": "199057ce90cd4eabba93abde1095a4ef",
       "version_major": 2,
       "version_minor": 0
      },
      "text/plain": [
       "pytorch_model.bin:   0%|          | 0.00/470M [00:00<?, ?B/s]"
      ]
     },
     "metadata": {},
     "output_type": "display_data"
    },
    {
     "name": "stdout",
     "output_type": "stream",
     "text": [
      "Question: What is the color of the main object?\n",
      "Answer: pink\n"
     ]
    }
   ],
   "source": [
    "from transformers import ViltProcessor, ViltForQuestionAnswering\n",
    "from PIL import Image\n",
    "import requests\n",
    "\n",
    "# Load the image and model\n",
    "# prepare image + question\n",
    "url = \"http://images.cocodataset.org/val2017/000000039769.jpg\"\n",
    "image = Image.open(requests.get(url, stream=True).raw)\n",
    "\n",
    "processor = ViltProcessor.from_pretrained('dandelin/vilt-b32-finetuned-vqa')\n",
    "model = ViltForQuestionAnswering.from_pretrained('dandelin/vilt-b32-finetuned-vqa')\n",
    "\n",
    "# Ask a question\n",
    "question = \"What is the color of the main object?\"\n",
    "\n",
    "# Prepare inputs\n",
    "inputs = processor(image, question, return_tensors=\"pt\")\n",
    "\n",
    "# Get the answer\n",
    "outputs = model(**inputs)\n",
    "logits = outputs.logits\n",
    "answer = model.config.id2label[logits.argmax(-1).item()]\n",
    "\n",
    "print(f\"Question: {question}\")\n",
    "print(f\"Answer: {answer}\")"
   ]
  },
  {
   "cell_type": "code",
   "execution_count": null,
   "metadata": {},
   "outputs": [],
   "source": []
  }
 ],
 "metadata": {
  "kernelspec": {
   "display_name": "thesis",
   "language": "python",
   "name": "python3"
  },
  "language_info": {
   "codemirror_mode": {
    "name": "ipython",
    "version": 3
   },
   "file_extension": ".py",
   "mimetype": "text/x-python",
   "name": "python",
   "nbconvert_exporter": "python",
   "pygments_lexer": "ipython3",
   "version": "3.8.18"
  }
 },
 "nbformat": 4,
 "nbformat_minor": 2
}
